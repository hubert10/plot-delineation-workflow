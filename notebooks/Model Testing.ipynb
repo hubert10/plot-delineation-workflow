{
 "cells": [
  {
   "cell_type": "code",
   "execution_count": 1,
   "metadata": {
    "id": "fVloYax_ZyM3"
   },
   "outputs": [],
   "source": [
    "## Imports\n",
    "import os\n",
    "import random\n",
    "\n",
    "import numpy as np\n",
    "import cv2\n",
    "import pathlib\n",
    "import matplotlib.pyplot as plt\n",
    "\n",
    "import tensorflow as tf\n",
    "## Seeding \n",
    "seed = 2019\n",
    "random.seed = seed\n",
    "np.random.seed = seed\n",
    "tf.seed = seed\n",
    "%matplotlib inline\n",
    "#The line above is necesary to show Matplotlib's plots inside a Jupyter Notebook\n",
    "import os\n",
    "os.chdir('E:\\\\PlotDel_Steven\\\\sen_proj')"
   ]
  },
  {
   "cell_type": "code",
   "execution_count": 2,
   "metadata": {},
   "outputs": [],
   "source": [
    "#import our modules\n",
    "from fpackage.resnet50_unet import DataGen, build_resnet50_unet"
   ]
  },
  {
   "cell_type": "markdown",
   "metadata": {
    "id": "5eXb_OlUaPla"
   },
   "source": [
    "**Path**"
   ]
  },
  {
   "cell_type": "code",
   "execution_count": 4,
   "metadata": {
    "id": "XFWlotWYaZay"
   },
   "outputs": [],
   "source": [
    "dataset_path = \"../Data/dataset\""
   ]
  },
  {
   "cell_type": "code",
   "execution_count": 10,
   "metadata": {
    "id": "PJ_mIToka33a"
   },
   "outputs": [],
   "source": [
    "image_size = 512\n",
    "batch_size = 8"
   ]
  },
  {
   "cell_type": "markdown",
   "metadata": {
    "id": "l9v3laNOm9Tv"
   },
   "source": [
    "## Get the ResNet50 model"
   ]
  },
  {
   "cell_type": "markdown",
   "metadata": {
    "id": "7tTPZ6gKcqA7"
   },
   "source": [
    "**RESNET-UNET**"
   ]
  },
  {
   "cell_type": "code",
   "execution_count": 5,
   "metadata": {
    "colab": {
     "base_uri": "https://localhost:8080/"
    },
    "executionInfo": {
     "elapsed": 3433,
     "status": "ok",
     "timestamp": 1631549942002,
     "user": {
      "displayName": "John Bagiliko",
      "photoUrl": "https://lh3.googleusercontent.com/a-/AOh14Ghz18CxW40k5t8fTWpvCc71bs1WW4u-wTPSDusj_A=s64",
      "userId": "04794280279182033443"
     },
     "user_tz": 0
    },
    "id": "w__SCpBjc24z",
    "outputId": "b0a52465-150c-41ec-95a6-e15d6e674b3f",
    "scrolled": false
   },
   "outputs": [],
   "source": [
    "input_shape = (512, 512, 3)\n",
    "model = build_resnet50_unet(input_shape)\n",
    "model.load_weights(dataset_path + \"/ResNet_UNet.h5\")\n",
    "#model.summary()"
   ]
  },
  {
   "cell_type": "code",
   "execution_count": 11,
   "metadata": {
    "colab": {
     "base_uri": "https://localhost:8080/"
    },
    "executionInfo": {
     "elapsed": 462448,
     "status": "ok",
     "timestamp": 1631552039067,
     "user": {
      "displayName": "John Bagiliko",
      "photoUrl": "https://lh3.googleusercontent.com/a-/AOh14Ghz18CxW40k5t8fTWpvCc71bs1WW4u-wTPSDusj_A=s64",
      "userId": "04794280279182033443"
     },
     "user_tz": 0
    },
    "id": "Jh8T7k1dZWay",
    "outputId": "19e1a43b-d1b8-44b4-d647-221e043b266e"
   },
   "outputs": [],
   "source": [
    "\n",
    "#predict model on test data\n",
    "test_dir = pathlib.Path(dataset_path+\"/test/\")\n",
    "#data_dir\n",
    "images = list(test_dir.glob('images/*'))\n",
    "# function to predict and save images\n",
    "def pred_and_save_image(input_img, save_path, idx):\n",
    "    try:\n",
    "        image = cv2.imread(str(input_img))\n",
    "    except:\n",
    "        image = io.imread(str(input_img), as_gray = True)\n",
    "    image = cv2.resize(image, (image_size, image_size))\n",
    "    image = np.expand_dims(image, axis=0) #very important\n",
    "    image = image/255.0\n",
    "    image = np.array(image)\n",
    "    #print(image.shape)\n",
    "    result = model.predict(image)\n",
    "    #print(result)\n",
    "    result = result > 0.078123\n",
    "    #print(result)\n",
    "    result = np.reshape(result*255, (image_size, image_size))\n",
    "    #save a image using the iteration index\n",
    "    cv2.imwrite(str(save_path)+\"/tile_{}.png\".format(idx),result)\n",
    " \n",
    "    #return\n",
    "\n",
    "#for idx, val in enumerate(images):\n",
    "#    print(val)\n",
    "#    pred_and_save_image(str(val), dataset_path+\"/predicted\", idx)"
   ]
  },
  {
   "cell_type": "code",
   "execution_count": 6,
   "metadata": {
    "scrolled": true
   },
   "outputs": [
    {
     "data": {
      "text/plain": [
       "'\\ntry:\\n    image = cv2.imread(r\"E:\\\\PlotDel_Steven\\\\Data\\\\subimages\\\\out21.tif\")\\nexcept:\\n    image = io.imread(r\"E:\\\\PlotDel_Steven\\\\Data\\\\dataset\\test\\\\images\\tile_9728-3840.png\", as_gray = True)\\nimage = cv2.resize(image, (image_size, image_size))\\n\\nimage = np.expand_dims(image, axis=0) #very important\\nimage = image/255.0\\nimage = np.array(image)\\n#print(image.shape)\\nresult = model_sept.predict(image)\\n#print(result)\\nresult = result > 0.079123\\n#print(result)\\nresult = np.reshape(result*255, (image_size, image_size))\\n\\nfig = plt.figure()\\nfig.subplots_adjust(hspace=0.4, wspace=0.4)\\nax = fig.add_subplot(1, 2, 1)\\nax.imshow(x[r])\\nax = fig.add_subplot(1, 2, 2)\\nax.imshow(np.reshape(result[r]*255, (image_size, image_size)), cmap=\"gray\")\\n'"
      ]
     },
     "execution_count": 6,
     "metadata": {},
     "output_type": "execute_result"
    }
   ],
   "source": [
    "input_shape = (512, 512, 3)\n",
    "model_sept = build_resnet50_unet(input_shape)\n",
    "model_sept.load_weights(dataset_path + \"/ResNet_UNet.h5\")\n",
    "'''\n",
    "try:\n",
    "    image = cv2.imread(r\"E:\\PlotDel_Steven\\Data\\subimages\\out21.tif\")\n",
    "except:\n",
    "    image = io.imread(r\"E:\\PlotDel_Steven\\Data\\dataset\\test\\images\\tile_9728-3840.png\", as_gray = True)\n",
    "image = cv2.resize(image, (image_size, image_size))\n",
    "\n",
    "image = np.expand_dims(image, axis=0) #very important\n",
    "image = image/255.0\n",
    "image = np.array(image)\n",
    "#print(image.shape)\n",
    "result = model_sept.predict(image)\n",
    "#print(result)\n",
    "result = result > 0.079123\n",
    "#print(result)\n",
    "result = np.reshape(result*255, (image_size, image_size))\n",
    "\n",
    "fig = plt.figure()\n",
    "fig.subplots_adjust(hspace=0.4, wspace=0.4)\n",
    "ax = fig.add_subplot(1, 2, 1)\n",
    "ax.imshow(x[r])\n",
    "ax = fig.add_subplot(1, 2, 2)\n",
    "ax.imshow(np.reshape(result[r]*255, (image_size, image_size)), cmap=\"gray\")\n",
    "'''"
   ]
  },
  {
   "cell_type": "code",
   "execution_count": 12,
   "metadata": {
    "scrolled": false
   },
   "outputs": [
    {
     "name": "stdout",
     "output_type": "stream",
     "text": [
      "(256, 256, 3)\n"
     ]
    },
    {
     "data": {
      "text/plain": [
       "(512, 512, 3)"
      ]
     },
     "execution_count": 12,
     "metadata": {},
     "output_type": "execute_result"
    }
   ],
   "source": [
    "image = cv2.imread(r\"E:\\PlotDel_Steven\\Data\\images\\tile_4096-6144.png\")\n",
    "print(image.shape)\n",
    "resized = cv2.resize(image, (512,512), interpolation = cv2.INTER_AREA)\n",
    "resized.shape\n"
   ]
  },
  {
   "cell_type": "code",
   "execution_count": 30,
   "metadata": {},
   "outputs": [],
   "source": [
    "# function to predict and save images\n",
    "def pred_and_save_image(input_img, save_path, idx):\n",
    "    try:\n",
    "        image = cv2.imread(str(input_img))\n",
    "    except:\n",
    "        image = io.imread(str(input_img), as_gray = True)\n",
    "    image = cv2.resize(image, (image_size, image_size))\n",
    "    image = np.expand_dims(image, axis=0) #very important\n",
    "    image = image/255.0\n",
    "    image = np.array(image)\n",
    "    #print(image.shape)\n",
    "    result = model_sept.predict(image)\n",
    "    #print(result)\n",
    "    result = result > 0.0799923\n",
    "    #print(result)\n",
    "    result = np.reshape(result*255, (image_size, image_size))\n",
    "    #save a image using the iteration index\n",
    "    cv2.imwrite(str(save_path)+\"/tile_{}.png\".format(idx),result)\n",
    " "
   ]
  },
  {
   "cell_type": "code",
   "execution_count": 31,
   "metadata": {},
   "outputs": [],
   "source": [
    "source_dir = \"E:/PlotDel_Steven/Data/whole_image\"\n",
    "source_dir = pathlib.Path(source_dir)\n",
    "pred_dir = \"E:/PlotDel_Steven/Data/whole_image_pred\"\n",
    "pred_dir = pathlib.Path(pred_dir)\n"
   ]
  },
  {
   "cell_type": "markdown",
   "metadata": {},
   "source": [
    "Predict the data on the source images (training data)"
   ]
  },
  {
   "cell_type": "code",
   "execution_count": 32,
   "metadata": {},
   "outputs": [],
   "source": [
    "images = list(source_dir.glob('*'))\n",
    "\n",
    "for idx, val in enumerate(images):\n",
    "    pred_and_save_image(str(val), pred_dir, idx)"
   ]
  },
  {
   "cell_type": "code",
   "execution_count": null,
   "metadata": {},
   "outputs": [],
   "source": []
  }
 ],
 "metadata": {
  "accelerator": "GPU",
  "colab": {
   "collapsed_sections": [],
   "name": "resrnet50_resunet .ipynb",
   "provenance": []
  },
  "kernelspec": {
   "display_name": "Python 3",
   "language": "python",
   "name": "python3"
  },
  "language_info": {
   "codemirror_mode": {
    "name": "ipython",
    "version": 3
   },
   "file_extension": ".py",
   "mimetype": "text/x-python",
   "name": "python",
   "nbconvert_exporter": "python",
   "pygments_lexer": "ipython3",
   "version": "3.6.13"
  }
 },
 "nbformat": 4,
 "nbformat_minor": 1
}
