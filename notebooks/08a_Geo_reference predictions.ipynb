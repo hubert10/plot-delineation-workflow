{
 "cells": [
  {
   "cell_type": "markdown",
   "id": "713f93f3",
   "metadata": {},
   "source": [
    "## Georeference Masks"
   ]
  },
  {
   "cell_type": "markdown",
   "id": "fa6a0a18",
   "metadata": {},
   "source": [
    "The aim of this script is to convert prediction patches saved in jp,png, etc to TIF format referencing the metadata of the original satelite imagery"
   ]
  },
  {
   "cell_type": "code",
   "execution_count": 37,
   "id": "c4ed3e5a",
   "metadata": {},
   "outputs": [],
   "source": [
    "import geopandas as gpd\n",
    "import os\n",
    "import rasterio as rio\n",
    "import gdal\n",
    "from PIL import Image\n",
    "import fiona\n",
    "\n",
    "import pathlib\n",
    "\n",
    "from rasterio.enums import Resampling\n",
    "from rasterio.plot import show\n",
    "import numpy as np\n",
    "\n",
    "os.chdir('E:\\\\PlotDel_Steven\\\\sen_proj')\n",
    "from fpackage.download_data import merge_google                          "
   ]
  },
  {
   "cell_type": "markdown",
   "id": "79a793c9",
   "metadata": {},
   "source": [
    "### Convert the PNG predictions to Rasters Tif format"
   ]
  },
  {
   "cell_type": "code",
   "execution_count": 38,
   "id": "495a9954",
   "metadata": {},
   "outputs": [],
   "source": [
    "\n",
    "#converts from png to tiff\n",
    "\n",
    "def convert_png_to_tif_and_save(input_img_png,save_path, georef_img_tif, idx):\n",
    "    #Input png image, to convert as geotiff\n",
    "    img = rio.open(str(input_img_png))\n",
    "    img = img.read(1)\n",
    "    #img = img.astype('uint16')\n",
    "    #img = np.stack((img,)*1, axis=1) #reshape to append the n channels of rgb for compatibility\n",
    "    # Input image for coordinate reference\n",
    "  \n",
    "    with rio.open(str(georef_img_tif) + '\\\\' + str(input_img_png).replace('jpg','tif').split('\\\\')[-1]) as naip:\n",
    "        #open georeferenced.tif for writing\n",
    "        \n",
    "        with rio.open(\n",
    "            str(save_path) + '/' + \"tile_{}.tif\".format(idx),\n",
    "            'w',\n",
    "            driver = 'GTiff',\n",
    "            count = 1,\n",
    "            height = img.shape[0],\n",
    "            width = img.shape[1],\n",
    "            dtype = img.dtype,\n",
    "            crs = naip.crs,\n",
    "            transform = naip.transform,\n",
    "            ) as dst:\n",
    "                dst.write(img,indexes = 1)\n",
    "                 \n"
   ]
  },
  {
   "cell_type": "code",
   "execution_count": null,
   "id": "4573b456",
   "metadata": {},
   "outputs": [],
   "source": [
    "# Set the paths\n",
    "#png images predicted path\n",
    "input_img_png = \"E:\\\\PlotDel_Steven\\\\Data\\\\Test\\\\pred_image\\\\\"\n",
    "input_img_png = pathlib.Path(input_img_png)\n",
    "\n",
    "#folder with tiles that were predicted (from original tif)\n",
    "georef_img_tif = \"E:\\\\PlotDel_Steven\\\\Data\\\\Test\\\\Ref_image\\\\\"\n",
    "georef_img_tif = pathlib.Path(georef_img_tif)\n",
    "\n",
    "#Path to save the outputs\n",
    "save_path = \"E:\\\\PlotDel_Steven\\\\Data\\\\Test\\\\geo_referenced\\\\\"\n",
    "save_path = pathlib.Path(save_path)\n",
    "input_img_png,georef_img_tif,save_path\n",
    "\n",
    "\n",
    "# Import the images, convert the to tif and save back in defined folder\n",
    "\n",
    "images = list(input_img_png.glob('*'))"
   ]
  },
  {
   "cell_type": "markdown",
   "id": "1c47c716",
   "metadata": {},
   "source": [
    "\n",
    "for idx, val in enumerate(images):\n",
    "    convert_png_to_tif_and_save(str(val), save_path, georef_img_tif,idx)\n",
    "  "
   ]
  }
 ],
 "metadata": {
  "kernelspec": {
   "display_name": "Python 3 (ipykernel)",
   "language": "python",
   "name": "python3"
  },
  "language_info": {
   "codemirror_mode": {
    "name": "ipython",
    "version": 3
   },
   "file_extension": ".py",
   "mimetype": "text/x-python",
   "name": "python",
   "nbconvert_exporter": "python",
   "pygments_lexer": "ipython3",
   "version": "3.7.10"
  }
 },
 "nbformat": 4,
 "nbformat_minor": 5
}
