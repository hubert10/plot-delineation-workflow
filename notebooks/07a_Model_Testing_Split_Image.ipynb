{
 "cells": [
  {
   "cell_type": "code",
   "execution_count": 7,
   "id": "522e4da5",
   "metadata": {},
   "outputs": [],
   "source": [
    "import os"
   ]
  },
  {
   "cell_type": "code",
   "execution_count": 8,
   "id": "efbff262",
   "metadata": {},
   "outputs": [],
   "source": [
    "os.chdir('E:/PlotDel_Steven/sen_proj/Test/split_images')"
   ]
  },
  {
   "cell_type": "code",
   "execution_count": 9,
   "id": "ae049347",
   "metadata": {},
   "outputs": [],
   "source": [
    "#Split images\n",
    "\n",
    "from osgeo import gdal \n",
    "dem = gdal.Open(r\"E:\\PlotDel_Steven\\Data\\out.tif\") \n",
    "gt = dem.GetGeoTransform() \n",
    "xmin = gt[0] \n",
    "ymax = gt[3] \n",
    "res = gt[1] \n",
    "xlen = res * dem.RasterXSize \n",
    "ylen = res * dem.RasterYSize \n",
    "div = 3\n",
    "xsize = xlen/div \n",
    "ysize = ylen/div \n",
    "xsteps = [xmin + xsize * i for i in range(div+1)] \n",
    "ysteps = [ymax - ysize * i for i in range(div+1)] \n",
    "for i in range(div): \n",
    "    for j in range(div): \n",
    "        xmin = xsteps[i] \n",
    "        xmax = xsteps[i+1] \n",
    "        ymax = ysteps[j]\n",
    "        ymin = ysteps[j+1] \n",
    " \n",
    "        gdal.Warp(\"tile\"+str(i)+str(j)+\".tif\", dem, outputBounds = (xmin, ymin, xmax, ymax), dstNodata = -9999)\n",
    "\n"
   ]
  },
  {
   "cell_type": "code",
   "execution_count": null,
   "id": "b0093fe5",
   "metadata": {},
   "outputs": [],
   "source": []
  }
 ],
 "metadata": {
  "kernelspec": {
   "display_name": "Python 3",
   "language": "python",
   "name": "python3"
  },
  "language_info": {
   "codemirror_mode": {
    "name": "ipython",
    "version": 3
   },
   "file_extension": ".py",
   "mimetype": "text/x-python",
   "name": "python",
   "nbconvert_exporter": "python",
   "pygments_lexer": "ipython3",
   "version": "3.6.13"
  }
 },
 "nbformat": 4,
 "nbformat_minor": 5
}
