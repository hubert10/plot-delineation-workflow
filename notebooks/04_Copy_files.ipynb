{
 "cells": [
  {
   "cell_type": "code",
   "execution_count": 2,
   "metadata": {},
   "outputs": [],
   "source": [
    "import os\n",
    "os.chdir('E:\\\\PlotDel_Steven\\\\sen_proj')\n",
    "from fpackage.Copy_files import copy_masks_having_masks, copy_images_having_masks, train_test_val_split"
   ]
  },
  {
   "cell_type": "code",
   "execution_count": 3,
   "metadata": {
    "executionInfo": {
     "elapsed": 308,
     "status": "ok",
     "timestamp": 1631386717274,
     "user": {
      "displayName": "John Bagiliko",
      "photoUrl": "https://lh3.googleusercontent.com/a-/AOh14Ghz18CxW40k5t8fTWpvCc71bs1WW4u-wTPSDusj_A=s64",
      "userId": "04794280279182033443"
     },
     "user_tz": 0
    },
    "id": "BSd1QIzTObXV"
   },
   "outputs": [],
   "source": [
    "data_dir= \"../\""
   ]
  },
  {
   "cell_type": "code",
   "execution_count": 4,
   "metadata": {
    "executionInfo": {
     "elapsed": 270,
     "status": "ok",
     "timestamp": 1631386834819,
     "user": {
      "displayName": "John Bagiliko",
      "photoUrl": "https://lh3.googleusercontent.com/a-/AOh14Ghz18CxW40k5t8fTWpvCc71bs1WW4u-wTPSDusj_A=s64",
      "userId": "04794280279182033443"
     },
     "user_tz": 0
    },
    "id": "B29GUUvdIsvu"
   },
   "outputs": [],
   "source": [
    "mask_dir= data_dir+\"Data/tiles_res_masked\"\n",
    "dest_dir= data_dir+\"Data/masks\""
   ]
  },
  {
   "cell_type": "code",
   "execution_count": 5,
   "metadata": {
    "executionInfo": {
     "elapsed": 974856,
     "status": "ok",
     "timestamp": 1631387815416,
     "user": {
      "displayName": "John Bagiliko",
      "photoUrl": "https://lh3.googleusercontent.com/a-/AOh14Ghz18CxW40k5t8fTWpvCc71bs1WW4u-wTPSDusj_A=s64",
      "userId": "04794280279182033443"
     },
     "user_tz": 0
    },
    "id": "JBN_jwnRH5nk"
   },
   "outputs": [],
   "source": [
    "#copy images from the mask folder that actually have masks\n",
    "copy_masks_having_masks(mask_dir, dest_dir)"
   ]
  },
  {
   "cell_type": "code",
   "execution_count": 6,
   "metadata": {
    "executionInfo": {
     "elapsed": 12,
     "status": "ok",
     "timestamp": 1631387816885,
     "user": {
      "displayName": "John Bagiliko",
      "photoUrl": "https://lh3.googleusercontent.com/a-/AOh14Ghz18CxW40k5t8fTWpvCc71bs1WW4u-wTPSDusj_A=s64",
      "userId": "04794280279182033443"
     },
     "user_tz": 0
    },
    "id": "BWRTUGHFJ_yV"
   },
   "outputs": [],
   "source": [
    "images = data_dir + \"Data/tiles_res_images\"\n",
    "masks = data_dir +\"Data/masks\"\n",
    "dest_dir = data_dir +\"Data/images\""
   ]
  },
  {
   "cell_type": "code",
   "execution_count": 7,
   "metadata": {
    "colab": {
     "base_uri": "https://localhost:8080/"
    },
    "executionInfo": {
     "elapsed": 481868,
     "status": "ok",
     "timestamp": 1631388298746,
     "user": {
      "displayName": "John Bagiliko",
      "photoUrl": "https://lh3.googleusercontent.com/a-/AOh14Ghz18CxW40k5t8fTWpvCc71bs1WW4u-wTPSDusj_A=s64",
      "userId": "04794280279182033443"
     },
     "user_tz": 0
    },
    "id": "jE7E_QUTJ1BT",
    "outputId": "f4eaee66-35d3-4124-a6dc-0a14f7745890"
   },
   "outputs": [
    {
     "name": "stdout",
     "output_type": "stream",
     "text": [
      "3174\n",
      "1491\n"
     ]
    }
   ],
   "source": [
    "#Copy into the images folder original images that have masks in the masks folder\n",
    "#it returns an array of masks at the end\n",
    "msks = copy_images_having_masks(images, masks, dest_dir)"
   ]
  },
  {
   "cell_type": "code",
   "execution_count": 8,
   "metadata": {
    "executionInfo": {
     "elapsed": 280,
     "status": "ok",
     "timestamp": 1631388333216,
     "user": {
      "displayName": "John Bagiliko",
      "photoUrl": "https://lh3.googleusercontent.com/a-/AOh14Ghz18CxW40k5t8fTWpvCc71bs1WW4u-wTPSDusj_A=s64",
      "userId": "04794280279182033443"
     },
     "user_tz": 0
    },
    "id": "WbtIly0hQfvQ"
   },
   "outputs": [],
   "source": [
    "images_dir =  dest_dir\n",
    "mask_dir = masks"
   ]
  },
  {
   "cell_type": "code",
   "execution_count": 9,
   "metadata": {
    "executionInfo": {
     "elapsed": 258,
     "status": "ok",
     "timestamp": 1631388661293,
     "user": {
      "displayName": "John Bagiliko",
      "photoUrl": "https://lh3.googleusercontent.com/a-/AOh14Ghz18CxW40k5t8fTWpvCc71bs1WW4u-wTPSDusj_A=s64",
      "userId": "04794280279182033443"
     },
     "user_tz": 0
    },
    "id": "zuhwvF6rPUR7"
   },
   "outputs": [],
   "source": [
    "train_dir = data_dir +\"Data/dataset/training/\"\n",
    "val_dir =  data_dir +\"Data/dataset/validation/\"\n",
    "test_dir =  data_dir +\"Data/dataset/test/\""
   ]
  },
  {
   "cell_type": "code",
   "execution_count": 10,
   "metadata": {
    "colab": {
     "base_uri": "https://localhost:8080/"
    },
    "executionInfo": {
     "elapsed": 51820,
     "status": "ok",
     "timestamp": 1631388722381,
     "user": {
      "displayName": "John Bagiliko",
      "photoUrl": "https://lh3.googleusercontent.com/a-/AOh14Ghz18CxW40k5t8fTWpvCc71bs1WW4u-wTPSDusj_A=s64",
      "userId": "04794280279182033443"
     },
     "user_tz": 0
    },
    "id": "EJ1pxn38bh0g",
    "outputId": "ac2e6e0f-4b72-4459-936a-70fb42096608"
   },
   "outputs": [
    {
     "name": "stdout",
     "output_type": "stream",
     "text": [
      "Done!\n"
     ]
    }
   ],
   "source": [
    "#Split data into train, validation and test\n",
    "train_test_val_split(images_dir,mask_dir, train_dir, val_dir, test_dir, msks)"
   ]
  },
  {
   "cell_type": "code",
   "execution_count": null,
   "metadata": {
    "id": "TaV_1poGskWr"
   },
   "outputs": [],
   "source": []
  }
 ],
 "metadata": {
  "colab": {
   "name": "Copy_files.ipynb",
   "provenance": []
  },
  "kernelspec": {
   "display_name": "Python 3 (ipykernel)",
   "language": "python",
   "name": "python3"
  },
  "language_info": {
   "codemirror_mode": {
    "name": "ipython",
    "version": 3
   },
   "file_extension": ".py",
   "mimetype": "text/x-python",
   "name": "python",
   "nbconvert_exporter": "python",
   "pygments_lexer": "ipython3",
   "version": "3.7.10"
  }
 },
 "nbformat": 4,
 "nbformat_minor": 1
}
