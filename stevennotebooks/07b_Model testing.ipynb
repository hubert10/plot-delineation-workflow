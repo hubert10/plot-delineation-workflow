{
 "cells": [
  {
   "cell_type": "code",
   "execution_count": 7,
   "metadata": {
    "executionInfo": {
     "elapsed": 3153,
     "status": "ok",
     "timestamp": 1631644090975,
     "user": {
      "displayName": "John Bagiliko",
      "photoUrl": "https://lh3.googleusercontent.com/a-/AOh14Ghz18CxW40k5t8fTWpvCc71bs1WW4u-wTPSDusj_A=s64",
      "userId": "04794280279182033443"
     },
     "user_tz": 0
    },
    "id": "fVloYax_ZyM3"
   },
   "outputs": [],
   "source": [
    "#Run on py36 environment in workstation\n",
    "#NB - this notebook and all prev notebooks should be run on env py36 where all the requirements are set\n",
    "## Imports\n",
    "import os\n",
    "import random\n",
    "import numpy as np\n",
    "import cv2\n",
    "import pathlib\n",
    "import matplotlib.pyplot as plt\n",
    "\n",
    "import tensorflow as tf\n",
    "## Seeding \n",
    "seed = 2019\n",
    "random.seed = seed\n",
    "np.random.seed = seed\n",
    "tf.seed = seed\n",
    "%matplotlib inline\n",
    "#The line above is necesary to show Matplotlib's plots inside a Jupyter Notebook"
   ]
  },
  {
   "cell_type": "code",
   "execution_count": 8,
   "metadata": {},
   "outputs": [],
   "source": [
    "os.chdir('E:\\\\PlotDel_Steven\\\\sen_proj')\n",
    "from fpackage.resnet50_unet import DataGen, build_resnet50_unet"
   ]
  },
  {
   "cell_type": "markdown",
   "metadata": {
    "id": "5eXb_OlUaPla"
   },
   "source": [
    "**Path**"
   ]
  },
  {
   "cell_type": "code",
   "execution_count": 9,
   "metadata": {
    "executionInfo": {
     "elapsed": 807,
     "status": "ok",
     "timestamp": 1631644103650,
     "user": {
      "displayName": "John Bagiliko",
      "photoUrl": "https://lh3.googleusercontent.com/a-/AOh14Ghz18CxW40k5t8fTWpvCc71bs1WW4u-wTPSDusj_A=s64",
      "userId": "04794280279182033443"
     },
     "user_tz": 0
    },
    "id": "2P9ltUJnnljR"
   },
   "outputs": [],
   "source": [
    "data_dir= \"../\"\n",
    "dataset_path = data_dir + \"Data/dataset\""
   ]
  },
  {
   "cell_type": "markdown",
   "metadata": {
    "id": "l9v3laNOm9Tv"
   },
   "source": [
    "## Get the ResNet50 model"
   ]
  },
  {
   "cell_type": "markdown",
   "metadata": {
    "id": "7tTPZ6gKcqA7"
   },
   "source": [
    "**RESNET-UNET**"
   ]
  },
  {
   "cell_type": "code",
   "execution_count": 10,
   "metadata": {
    "colab": {
     "base_uri": "https://localhost:8080/"
    },
    "executionInfo": {
     "elapsed": 9117,
     "status": "ok",
     "timestamp": 1631644174559,
     "user": {
      "displayName": "John Bagiliko",
      "photoUrl": "https://lh3.googleusercontent.com/a-/AOh14Ghz18CxW40k5t8fTWpvCc71bs1WW4u-wTPSDusj_A=s64",
      "userId": "04794280279182033443"
     },
     "user_tz": 0
    },
    "id": "w__SCpBjc24z",
    "outputId": "e45fcf85-f3ba-47e3-e325-5a432ebcd8bb",
    "scrolled": true
   },
   "outputs": [],
   "source": [
    "image_size = 512\n",
    "batch_size = 8\n",
    "input_shape = (512, 512, 3)\n",
    "model = build_resnet50_unet(input_shape)\n",
    "#model.summary()"
   ]
  },
  {
   "cell_type": "markdown",
   "metadata": {
    "id": "ly8e5f7oE6Pe"
   },
   "source": [
    "# **Test the model on unseen data**"
   ]
  },
  {
   "cell_type": "markdown",
   "metadata": {
    "id": "cCrmQNdtDHbr"
   },
   "source": [
    "**Load weights**"
   ]
  },
  {
   "cell_type": "code",
   "execution_count": 11,
   "metadata": {
    "executionInfo": {
     "elapsed": 9130,
     "status": "ok",
     "timestamp": 1631644199341,
     "user": {
      "displayName": "John Bagiliko",
      "photoUrl": "https://lh3.googleusercontent.com/a-/AOh14Ghz18CxW40k5t8fTWpvCc71bs1WW4u-wTPSDusj_A=s64",
      "userId": "04794280279182033443"
     },
     "user_tz": 0
    },
    "id": "7p4N7JjQjufQ"
   },
   "outputs": [],
   "source": [
    "model.load_weights(dataset_path + \"/ResNet_UNet.h5\")"
   ]
  },
  {
   "cell_type": "code",
   "execution_count": 27,
   "metadata": {
    "colab": {
     "background_save": true,
     "base_uri": "https://localhost:8080/"
    },
    "id": "99ukZ7b_exz_"
   },
   "outputs": [],
   "source": [
    "# function to predict and save images\n",
    "def pred_and_save_image(input_img, save_path, idx):\n",
    "    try:\n",
    "        image = cv2.imread(str(input_img))\n",
    "    except:\n",
    "        image = io.imread(str(input_img), as_gray = True)\n",
    "    image = cv2.resize(image, (image_size, image_size))\n",
    "    image = np.expand_dims(image, axis=0) #very important\n",
    "    image = image/255.0\n",
    "    image = np.array(image)\n",
    "    #print(image.shape)\n",
    "    result = model.predict(image)\n",
    "    #print(result)\n",
    "    result = result > 0.1899999123\n",
    "    #print(result)\n",
    "    result = np.reshape(result*255, (image_size, image_size))\n",
    "    #save a image using the iteration index\n",
    "    cv2.imwrite(str(save_path)+\"/tile_{}.png\".format(idx),result)\n",
    " "
   ]
  },
  {
   "cell_type": "markdown",
   "metadata": {},
   "source": [
    "### Set the paths"
   ]
  },
  {
   "cell_type": "code",
   "execution_count": 14,
   "metadata": {},
   "outputs": [
    {
     "data": {
      "text/plain": [
       "'E:\\\\PlotDel_Steven\\\\sen_proj\\\\Test\\\\split_images'"
      ]
     },
     "execution_count": 14,
     "metadata": {},
     "output_type": "execute_result"
    }
   ],
   "source": [
    "os.chdir('E:/PlotDel_Steven/sen_proj/Test/split_images')\n",
    "data_dir = '../'\n",
    "source_dir = data_dir+'split_images' #source images for predicitons ---those split above\n",
    "source_dir = pathlib.Path(source_dir)\n",
    "pred_dir = data_dir+\"prediction_images\"\n",
    "pred_dir = pathlib.Path(pred_dir)\n",
    "source_dir,pred_dir\n"
   ]
  },
  {
   "cell_type": "markdown",
   "metadata": {},
   "source": [
    "### Make the predictions while saving them"
   ]
  },
  {
   "cell_type": "code",
   "execution_count": 29,
   "metadata": {},
   "outputs": [],
   "source": [
    "images = list(source_dir.glob('*'))\n",
    "\n",
    "for idx, val in enumerate(images):\n",
    "    pred_and_save_image(str(val), pred_dir, idx)"
   ]
  }
 ],
 "metadata": {
  "accelerator": "GPU",
  "colab": {
   "collapsed_sections": [],
   "name": "final_test.ipynb",
   "version": ""
  },
  "kernelspec": {
   "display_name": "Python 3",
   "language": "python",
   "name": "python3"
  },
  "language_info": {
   "codemirror_mode": {
    "name": "ipython",
    "version": 3
   },
   "file_extension": ".py",
   "mimetype": "text/x-python",
   "name": "python",
   "nbconvert_exporter": "python",
   "pygments_lexer": "ipython3",
   "version": "3.8.8"
  }
 },
 "nbformat": 4,
 "nbformat_minor": 1
}
